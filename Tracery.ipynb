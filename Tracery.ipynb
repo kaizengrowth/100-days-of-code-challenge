{
  "nbformat": 4,
  "nbformat_minor": 0,
  "metadata": {
    "colab": {
      "provenance": [],
      "authorship_tag": "ABX9TyNpvH5Dr7DZ7mxXaTy/a63n",
      "include_colab_link": true
    },
    "kernelspec": {
      "name": "python3",
      "display_name": "Python 3"
    },
    "language_info": {
      "name": "python"
    }
  },
  "cells": [
    {
      "cell_type": "markdown",
      "metadata": {
        "id": "view-in-github",
        "colab_type": "text"
      },
      "source": [
        "<a href=\"https://colab.research.google.com/github/kaizengrowth/100-days-of-code-challenge/blob/master/Tracery.ipynb\" target=\"_parent\"><img src=\"https://colab.research.google.com/assets/colab-badge.svg\" alt=\"Open In Colab\"/></a>"
      ]
    },
    {
      "cell_type": "code",
      "execution_count": 1,
      "metadata": {
        "colab": {
          "base_uri": "https://localhost:8080/"
        },
        "id": "cUXF2Avwe0pE",
        "outputId": "988fb94d-24c5-42e8-f632-7a92e629bc12"
      },
      "outputs": [
        {
          "output_type": "stream",
          "name": "stdout",
          "text": [
            "Collecting tracery\n",
            "  Downloading tracery-0.1.1.tar.gz (8.1 kB)\n",
            "  Preparing metadata (setup.py) ... \u001b[?25l\u001b[?25hdone\n",
            "Building wheels for collected packages: tracery\n",
            "  Building wheel for tracery (setup.py) ... \u001b[?25l\u001b[?25hdone\n",
            "  Created wheel for tracery: filename=tracery-0.1.1-py3-none-any.whl size=7680 sha256=c4a26e977c0630d8831c0a5980633ab4a2fc6dc5b7f064b9c49a3ebb9a3bed3f\n",
            "  Stored in directory: /root/.cache/pip/wheels/f0/d6/ba/09be32e355966fb8bfc51c3279628a08b3c1617b2ed9626891\n",
            "Successfully built tracery\n",
            "Installing collected packages: tracery\n",
            "Successfully installed tracery-0.1.1\n"
          ]
        }
      ],
      "source": [
        "import sys\n",
        "!{sys.executable} -m pip install tracery"
      ]
    },
    {
      "cell_type": "code",
      "source": [
        "import tracery"
      ],
      "metadata": {
        "id": "jK1ZkEPBfuUj"
      },
      "execution_count": 2,
      "outputs": []
    },
    {
      "cell_type": "code",
      "source": [
        "rules = {\n",
        "    \"origin\": \"ROBOT MAYOR: #greeting# #noun##punctuation#\",\n",
        "    \"noun\": [\"galaxy\", \"universe\", \"local cluster\", \"borough\", \"house\", \"municipality\"],\n",
        "    \"greeting\": [\"howdy\", \"salutations\", \"hey\", \"hiya\", \"sup\", \"hello\", \"hola\"],\n",
        "    \"punctuation\": [\"!\", \".\", \"?\", \"...\", \" <3 \"]\n",
        "}\n",
        "grammar = tracery.Grammar(rules)\n",
        "print(grammar.flatten(\"#origin#\"))"
      ],
      "metadata": {
        "colab": {
          "base_uri": "https://localhost:8080/"
        },
        "id": "ObKaFB_ifwF6",
        "outputId": "bc58385f-b63e-496c-9ebb-996775d13531"
      },
      "execution_count": 16,
      "outputs": [
        {
          "output_type": "stream",
          "name": "stdout",
          "text": [
            "ROBOT MAYOR: salutations municipality!\n"
          ]
        }
      ]
    },
    {
      "cell_type": "markdown",
      "source": [
        "* Tracery grammar == collection of rules and expansions.\n",
        "* Rules are to the left-hand side of :\n",
        "* Expansions are to the right-hand side of :"
      ],
      "metadata": {
        "id": "C_b3kjUVgAY3"
      }
    },
    {
      "cell_type": "code",
      "source": [
        "from tracery.modifiers import base_english"
      ],
      "metadata": {
        "id": "8p_BQmRtgJ4S"
      },
      "execution_count": 17,
      "outputs": []
    },
    {
      "cell_type": "code",
      "source": [
        "for i in range(10):\n",
        "  rules = {\n",
        "      \"origin\" : \"#interjection.capitalize# #name.capitalize#, I'm #profession.a# not two #profession.s#\",\n",
        "      \"interjection\" : [\"dammit\", \"gosh\", \"oh no\", \"rats\", \"crap\"],\n",
        "      \"name\" : [\"james\", \"harold\", \"jim\", \"joe\", \"lindsay\", \"allison\", \"katie\"],\n",
        "      \"profession\": [\n",
        "          \"actor\",\n",
        "          \"poet\",\n",
        "          \"plumber\",\n",
        "          \"doctor\",\n",
        "          \"astronaut\",\n",
        "          \"maid\",\n",
        "          \"coroner\",\n",
        "          \"mayor\"\n",
        "      ]\n",
        "  }\n",
        "  grammar = tracery.Grammar(rules)\n",
        "  grammar.add_modifiers(base_english)\n",
        "  print(grammar.flatten(\"#origin#\"))"
      ],
      "metadata": {
        "colab": {
          "base_uri": "https://localhost:8080/"
        },
        "id": "eydnAsSemHBx",
        "outputId": "09eea597-4cad-4d9f-b2e9-60060b218dfb"
      },
      "execution_count": 25,
      "outputs": [
        {
          "output_type": "stream",
          "name": "stdout",
          "text": [
            "Crap Harold, I'm a maid not two poets\n",
            "Crap Joe, I'm a doctor not two coroners\n",
            "Rats Lindsay, I'm a poet not two astronauts\n",
            "Crap Katie, I'm an astronaut not two mayors\n",
            "Dammit Lindsay, I'm a mayor not two plumbers\n",
            "Oh no Allison, I'm a doctor not two coroners\n",
            "Rats James, I'm a coroner not two doctors\n",
            "Crap Jim, I'm a coroner not two doctors\n",
            "Gosh Joe, I'm a poet not two poets\n",
            "Crap Lindsay, I'm a maid not two mayors\n"
          ]
        }
      ]
    },
    {
      "cell_type": "markdown",
      "source": [
        "### Tracery Grammer Modifiers\n",
        "\n",
        "* `.a` modifier for article\n",
        "* `.capitalize` capitalize word\n",
        "* `.s` pluralize word"
      ],
      "metadata": {
        "id": "GEUvtGeLm8Er"
      }
    },
    {
      "cell_type": "code",
      "source": [
        "for i in range(10):\n",
        "  rules = {\n",
        "      \"origin\": \"#nounphrase.capitalize# #verbphrase#.\",\n",
        "      \"nounphrase\": [\"the #noun\", \"#noun.a#\", \"the #noun# #prep# #verbphrase#\"],\n",
        "      \"verbphrase\": [\"#verb# #nounphrase#\"],\n",
        "      \"noun\": [\"amoeba\", \"dichotomy\", \"seagull\", \"trombone\"],\n",
        "      \"verb\": [\"awakens\", \"bends\", \"closes\"],\n",
        "      \"prep\": [\"in\", \"on\", \"over\", \"against\"]\n",
        "  }\n",
        "  grammar = tracery.Grammar(rules)\n",
        "  grammar.add_modifiers(base_english)\n",
        "  for i in range(10):\n",
        "      print(grammar.flatten(\"#origin#\"))"
      ],
      "metadata": {
        "colab": {
          "base_uri": "https://localhost:8080/"
        },
        "id": "s-S8Cu-0mp4w",
        "outputId": "3a6760e7-aacf-49b8-dbd9-4031588d9248"
      },
      "execution_count": 27,
      "outputs": [
        {
          "output_type": "stream",
          "name": "stdout",
          "text": [
            "The dichotomy over awakens the seagull over closes the seagull against awakens the dichotomy against bends the noun closes a dichotomy.\n",
            "The dichotomy on awakens an amoeba awakens the trombone against bends an amoeba.\n",
            "The noun awakens the trombone over closes the noun.\n",
            "A trombone closes the noun.\n",
            "The noun awakens a seagull.\n",
            "A dichotomy bends the noun.\n",
            "The trombone against closes the noun closes the noun.\n",
            "The noun bends the noun.\n",
            "The noun closes the noun.\n",
            "The amoeba against awakens the dichotomy over closes a seagull bends an amoeba.\n",
            "A dichotomy bends a seagull.\n",
            "The noun awakens the amoeba in awakens a seagull.\n",
            "An amoeba bends a seagull.\n",
            "The trombone in awakens a dichotomy awakens an amoeba.\n",
            "The noun closes a trombone.\n",
            "The seagull on awakens the amoeba in bends the dichotomy over awakens the seagull on bends the seagull in closes the trombone over bends the noun awakens the noun.\n",
            "The dichotomy in closes a dichotomy closes the noun.\n",
            "The noun bends a seagull.\n",
            "A seagull awakens an amoeba.\n",
            "A seagull awakens the seagull over closes the dichotomy against closes an amoeba.\n",
            "The dichotomy against closes a seagull closes the dichotomy against closes a seagull.\n",
            "The seagull over closes a trombone awakens the trombone against awakens the seagull in awakens the dichotomy against bends a trombone.\n",
            "A seagull awakens the noun.\n",
            "The noun bends a trombone.\n",
            "The noun bends the noun.\n",
            "A seagull bends the dichotomy against awakens a seagull.\n",
            "The trombone over bends the noun closes the noun.\n",
            "An amoeba awakens a trombone.\n",
            "The seagull in awakens a trombone bends a seagull.\n",
            "The seagull over closes an amoeba closes a trombone.\n",
            "The noun awakens the noun.\n",
            "A seagull awakens the dichotomy over closes the noun.\n",
            "The trombone on bends a dichotomy closes the amoeba in bends the noun.\n",
            "The noun bends the dichotomy over bends the seagull on bends the noun.\n",
            "A dichotomy closes the seagull on bends the trombone on bends the amoeba over awakens the dichotomy in awakens a seagull.\n",
            "The trombone on awakens the noun awakens the dichotomy in awakens the trombone in bends the seagull on closes a dichotomy.\n",
            "The noun awakens the dichotomy in bends the trombone over closes the amoeba against bends the seagull over bends the trombone against closes a dichotomy.\n",
            "A seagull awakens the noun.\n",
            "The seagull against closes a dichotomy bends a dichotomy.\n",
            "A dichotomy bends the trombone against closes the noun.\n",
            "The noun bends the noun.\n",
            "The noun bends the noun.\n",
            "A seagull bends the amoeba in bends the amoeba over closes the dichotomy in awakens the noun.\n",
            "The noun closes the noun.\n",
            "The seagull on bends the noun bends the noun.\n",
            "A seagull closes a dichotomy.\n",
            "The noun closes the noun.\n",
            "The amoeba on awakens the noun awakens the trombone on awakens an amoeba.\n",
            "The noun closes the amoeba against bends the noun.\n",
            "A seagull closes the trombone over closes the noun.\n",
            "The noun awakens the noun.\n",
            "A dichotomy awakens the seagull on closes the noun.\n",
            "The noun awakens the noun.\n",
            "The noun bends the noun.\n",
            "The dichotomy on bends the dichotomy against bends an amoeba awakens a seagull.\n",
            "The amoeba over closes the seagull against closes the seagull in bends the amoeba on awakens the noun bends a dichotomy.\n",
            "A seagull awakens the trombone in awakens the noun.\n",
            "A trombone closes the noun.\n",
            "The dichotomy in awakens the noun bends a dichotomy.\n",
            "A seagull bends the trombone over awakens the dichotomy against bends an amoeba.\n",
            "The noun closes a trombone.\n",
            "The noun closes the seagull in bends a seagull.\n",
            "The noun closes the dichotomy against awakens a dichotomy.\n",
            "The trombone in awakens the seagull in bends the noun bends the amoeba against awakens a dichotomy.\n",
            "A dichotomy awakens an amoeba.\n",
            "The seagull over bends the trombone on closes the noun awakens the trombone on bends a dichotomy.\n",
            "A dichotomy bends the trombone against bends the dichotomy against closes the noun.\n",
            "The noun closes a seagull.\n",
            "The seagull against bends a trombone closes the dichotomy on bends a trombone.\n",
            "The amoeba over bends the amoeba over closes a seagull closes a trombone.\n",
            "An amoeba closes an amoeba.\n",
            "A seagull awakens the amoeba in bends the noun.\n",
            "The noun bends a seagull.\n",
            "A trombone awakens the trombone over bends the trombone on awakens the noun.\n",
            "The noun closes the amoeba against closes the amoeba over awakens the noun.\n",
            "The noun bends a seagull.\n",
            "A seagull closes the noun.\n",
            "The noun awakens the dichotomy on awakens the trombone over closes a dichotomy.\n",
            "A trombone awakens the trombone over awakens the noun.\n",
            "The noun bends the noun.\n",
            "A trombone bends a trombone.\n",
            "The amoeba in closes the noun awakens the noun.\n",
            "The trombone in awakens a seagull bends a seagull.\n",
            "The trombone over awakens the noun awakens the seagull on awakens the noun.\n",
            "The noun awakens the trombone over bends the noun.\n",
            "A dichotomy closes the seagull in awakens the dichotomy in closes a trombone.\n",
            "The amoeba on closes a seagull bends a trombone.\n",
            "The noun closes a trombone.\n",
            "The amoeba over bends the noun bends the noun.\n",
            "The amoeba over bends the dichotomy against bends the noun bends a seagull.\n",
            "The dichotomy against bends a dichotomy closes the noun.\n",
            "A dichotomy bends the noun.\n",
            "The amoeba against bends the trombone against closes a dichotomy closes the trombone against bends the noun.\n",
            "A seagull awakens the noun.\n",
            "A seagull bends an amoeba.\n",
            "The seagull against closes the noun bends the seagull in awakens a seagull.\n",
            "The noun bends the amoeba over closes a seagull.\n",
            "An amoeba awakens a dichotomy.\n",
            "A seagull bends a dichotomy.\n",
            "The trombone against awakens the noun awakens the noun.\n"
          ]
        }
      ]
    },
    {
      "cell_type": "markdown",
      "source": [
        "## word criteria\n",
        "\n",
        "scale of 1 to 10\n",
        "\n",
        "* concrete -> abstract\n",
        "* practical -> fantastical\n",
        "* loud -> quiet\n",
        "* stable -> volatile\n",
        "* slow -> fast\n",
        "* bouba -> kiki"
      ],
      "metadata": {
        "id": "NFlmcZqcr_bl"
      }
    }
  ]
}